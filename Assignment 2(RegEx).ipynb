{
 "cells": [
  {
   "cell_type": "code",
   "execution_count": 5,
   "id": "07c2c5b0",
   "metadata": {},
   "outputs": [
    {
     "name": "stdout",
     "output_type": "stream",
     "text": [
      "enter the stringthr,jkf .:fbkjvrkjke  ,.\n",
      "thr:jkf:::fbkjvrkjke::::\n"
     ]
    }
   ],
   "source": [
    "#Q1\n",
    "import re\n",
    "targetstring=input('enter the string')\n",
    "pattern=r'[ .,]'\n",
    "final=re.sub(pattern,\":\",targetstring)\n",
    "print(final)"
   ]
  },
  {
   "cell_type": "code",
   "execution_count": 8,
   "id": "8640052d",
   "metadata": {},
   "outputs": [
    {
     "data": {
      "text/html": [
       "<div>\n",
       "<style scoped>\n",
       "    .dataframe tbody tr th:only-of-type {\n",
       "        vertical-align: middle;\n",
       "    }\n",
       "\n",
       "    .dataframe tbody tr th {\n",
       "        vertical-align: top;\n",
       "    }\n",
       "\n",
       "    .dataframe thead th {\n",
       "        text-align: right;\n",
       "    }\n",
       "</style>\n",
       "<table border=\"1\" class=\"dataframe\">\n",
       "  <thead>\n",
       "    <tr style=\"text-align: right;\">\n",
       "      <th></th>\n",
       "      <th>SUMMARY</th>\n",
       "    </tr>\n",
       "  </thead>\n",
       "  <tbody>\n",
       "    <tr>\n",
       "      <th>0</th>\n",
       "      <td>hello, world!</td>\n",
       "    </tr>\n",
       "    <tr>\n",
       "      <th>1</th>\n",
       "      <td>XXXXX test</td>\n",
       "    </tr>\n",
       "    <tr>\n",
       "      <th>2</th>\n",
       "      <td>123four, five:; six...</td>\n",
       "    </tr>\n",
       "  </tbody>\n",
       "</table>\n",
       "</div>"
      ],
      "text/plain": [
       "                  SUMMARY\n",
       "0           hello, world!\n",
       "1              XXXXX test\n",
       "2  123four, five:; six..."
      ]
     },
     "execution_count": 8,
     "metadata": {},
     "output_type": "execute_result"
    }
   ],
   "source": [
    "import pandas as pd\n",
    "import re\n",
    "df=pd.DataFrame({'SUMMARY' : ['hello, world!', 'XXXXX test', '123four, five:; six...']})\n",
    "df"
   ]
  },
  {
   "cell_type": "code",
   "execution_count": 10,
   "id": "725b3123",
   "metadata": {},
   "outputs": [
    {
     "name": "stdout",
     "output_type": "stream",
     "text": [
      "before                    SUMMARY\n",
      "0           hello, world!\n",
      "1              XXXXX test\n",
      "2  123four, five:; six...\n"
     ]
    }
   ],
   "source": [
    "import pandas as pd\n",
    "import re\n",
    "df=pd.DataFrame({'SUMMARY' : ['hello, world!', 'XXXXX test', '123four, five:; six...']})\n",
    "print('before ',df)\n"
   ]
  },
  {
   "cell_type": "code",
   "execution_count": 13,
   "id": "50e78594",
   "metadata": {},
   "outputs": [
    {
     "name": "stdout",
     "output_type": "stream",
     "text": [
      "before                    SUMMARY\n",
      "0           hello, world!\n",
      "1              XXXXX test\n",
      "2  123four, five:; six...\n",
      "after          SUMMARY\n",
      "0    hello world\n",
      "1           test\n",
      "2  four five six\n"
     ]
    },
    {
     "name": "stderr",
     "output_type": "stream",
     "text": [
      "C:\\Users\\admoh\\AppData\\Local\\Temp\\ipykernel_30640\\655066204.py:6: FutureWarning: The default value of regex will change from True to False in a future version.\n",
      "  df['SUMMARY']=df['SUMMARY'].str.replace(pattern,'')\n"
     ]
    }
   ],
   "source": [
    "#Q2\n",
    "import pandas as pd\n",
    "import re\n",
    "df=pd.DataFrame({'SUMMARY' : ['hello, world!', 'XXXXX test', '123four, five:; six...']})\n",
    "print('before ',df)\n",
    "pattern=r'[A-Z!,.0-9;:]'\n",
    "df['SUMMARY']=df['SUMMARY'].str.replace(pattern,'')\n",
    "print('after',df)"
   ]
  },
  {
   "cell_type": "code",
   "execution_count": 36,
   "id": "1ab42bb8",
   "metadata": {},
   "outputs": [
    {
     "name": "stdout",
     "output_type": "stream",
     "text": [
      "Enter the string: hgn hghk hjkiy hnjkll\n",
      "hghk\n",
      "hjkiy\n",
      "hnjkll\n"
     ]
    }
   ],
   "source": [
    "#Q3\n",
    "import re\n",
    "\n",
    "def funct1():\n",
    "    str1 = input('Enter the string: ')\n",
    "    pattern = r'\\w{4,}'\n",
    "    prog = re.compile(pattern)\n",
    "    final = prog.finditer(str1)\n",
    "    for match in final:\n",
    "        print(match.group())\n",
    "\n",
    "funct1()\n",
    "\n",
    "    \n"
   ]
  },
  {
   "cell_type": "code",
   "execution_count": 59,
   "id": "4d854175",
   "metadata": {},
   "outputs": [
    {
     "name": "stdout",
     "output_type": "stream",
     "text": [
      "Enter the string: hi hello hollas hijy hey\n",
      "hello\n",
      "hijy\n",
      "hey\n"
     ]
    }
   ],
   "source": [
    "#Q4\n",
    "import re\n",
    "\n",
    "def funct1():\n",
    "    str1 = input('Enter the string: ')\n",
    "    pattern = r'\\b\\w{3,5}\\b'\n",
    "    prog = re.compile(pattern)\n",
    "    final = prog.finditer(str1)\n",
    "    for match in final:\n",
    "        print(match.group())\n",
    "\n",
    "funct1()"
   ]
  },
  {
   "cell_type": "code",
   "execution_count": 46,
   "id": "68786f19",
   "metadata": {},
   "outputs": [
    {
     "name": "stdout",
     "output_type": "stream",
     "text": [
      "example .com\n",
      "hr@fliprobo .com\n",
      "github .com\n",
      "Hello Data Science World\n",
      "Data Scientist\n"
     ]
    }
   ],
   "source": [
    "#Q5\n",
    "import re\n",
    "\n",
    "\n",
    "sample=[\"example (.com)\", \"hr@fliprobo (.com)\", \"github (.com)\", \"Hello (Data Science World)\", \"Data (Scientist)\"]\n",
    "pattern = r'\\(|\\)'\n",
    "prog = re.compile(pattern)\n",
    "for str in sample:\n",
    "    final=prog.sub('',str)\n",
    "    print(final)\n",
    "\n",
    "\n",
    "\n",
    "        "
   ]
  },
  {
   "cell_type": "code",
   "execution_count": 86,
   "id": "f2bcd284",
   "metadata": {},
   "outputs": [
    {
     "name": "stdout",
     "output_type": "stream",
     "text": [
      "Enter the string: ImportanceOfRegularExpressionsInPython\n",
      "['', 'Importance', '', 'Of', '', 'Regular', '', 'Expressions', '', 'In', '', 'Python', '']\n"
     ]
    }
   ],
   "source": [
    "#Q7\n",
    "import re\n",
    "\n",
    "target_string = input('Enter the string: ')\n",
    "final = re.split(r'([A-Z][a-z]*)', target_string)\n",
    "\n",
    "print(final)\n",
    "\n",
    "\n"
   ]
  },
  {
   "cell_type": "code",
   "execution_count": 7,
   "id": "a20020e5",
   "metadata": {},
   "outputs": [
    {
     "name": "stdout",
     "output_type": "stream",
     "text": [
      "Enter the string: Importance2Of3Regular90Expressions00In1Python\n",
      "Importance2 Of3 Regular90 Expressions00 In1 Python\n"
     ]
    }
   ],
   "source": [
    "#Q8\n",
    "import re\n",
    "text = input('Enter the string: ')\n",
    "final =re.sub(r'(\\d)(?=[A-Za-z])', r'\\1 ',text)\n",
    "print(final)\n"
   ]
  },
  {
   "cell_type": "code",
   "execution_count": 13,
   "id": "7d3a1f80",
   "metadata": {},
   "outputs": [
    {
     "name": "stdout",
     "output_type": "stream",
     "text": [
      "Enter the string: Importance2Of3Regular90Expressions00In1Python\n",
      "Importance2 Of3 Regular9 0 Expressions0 0 In1 Python\n"
     ]
    }
   ],
   "source": [
    "#Q9\n",
    "import re\n",
    "text = input('Enter the string: ')\n",
    "final =re.sub(r'([A-Z0-9])(?=[A-Z])|([A-Z0-9])(?=[0-9])', r'\\1\\2 ',text)\n",
    "print(final)\n"
   ]
  },
  {
   "cell_type": "code",
   "execution_count": 15,
   "id": "1ef14176",
   "metadata": {},
   "outputs": [
    {
     "name": "stdout",
     "output_type": "stream",
     "text": [
      "Enter a stringyuh_fifn fnrinf niunfifn*funfu8888888_jkjk88888*****\n",
      "no match\n"
     ]
    }
   ],
   "source": [
    "#Q11\n",
    "import re\n",
    "target_string = input('Enter a string')\n",
    "\n",
    "if re.match(r'^[A-Za-z0-9_]+$', target_string):\n",
    "    print('match')\n",
    "else:\n",
    "    print('no match')"
   ]
  },
  {
   "cell_type": "code",
   "execution_count": 16,
   "id": "faa484f9",
   "metadata": {},
   "outputs": [
    {
     "name": "stdout",
     "output_type": "stream",
     "text": [
      "Enter a string56NRVTIMM_VNVJVNNkmcmc\n",
      "match\n"
     ]
    }
   ],
   "source": [
    "#Q11\n",
    "import re\n",
    "target_string = input('Enter a string')\n",
    "\n",
    "if re.match(r'^[A-Za-z0-9_]+$', target_string):\n",
    "    print('match')\n",
    "else:\n",
    "    print('no match')\n",
    "    \n",
    "    "
   ]
  },
  {
   "cell_type": "code",
   "execution_count": 23,
   "id": "72288e05",
   "metadata": {},
   "outputs": [
    {
     "name": "stdout",
     "output_type": "stream",
     "text": [
      "Enter a string starting with a number: 67jhhjj\n",
      "Match!The string starts with a number.\n"
     ]
    }
   ],
   "source": [
    "#Q12\n",
    "import re\n",
    "a=1\n",
    "while (a>0):\n",
    "    numstring = input('Enter a string starting with a number: ')\n",
    "    if re.match(r'^\\d',numstring):\n",
    "        print('Match!The string starts with a number.')\n",
    "        a=0\n",
    "        break \n",
    "    else:\n",
    "        print('Try again.')"
   ]
  },
  {
   "cell_type": "code",
   "execution_count": 26,
   "id": "85607cc3",
   "metadata": {},
   "outputs": [
    {
     "name": "stdout",
     "output_type": "stream",
     "text": [
      "give ipaddress123.009.456.909\n",
      "NEW IP ADDRESS: 123.9.456.909\n"
     ]
    }
   ],
   "source": [
    "#Q13\n",
    "import re\n",
    "ipadd=input('give ipaddress')\n",
    "newipadd=re.sub(r'\\b0+(\\d)',r'\\1',ipadd)\n",
    "print('NEW IP ADDRESS:',newipadd)\n",
    "\n"
   ]
  },
  {
   "cell_type": "code",
   "execution_count": 27,
   "id": "99dd721f",
   "metadata": {},
   "outputs": [
    {
     "name": "stdout",
     "output_type": "stream",
     "text": [
      "Enter a string: t'The quick brown fox jumps over the lazy dog.'\n",
      "the entered str: t'The quick brown fox jumps over the lazy dog.'\n",
      "the literalstrings: ['fox', 'dog']\n"
     ]
    }
   ],
   "source": [
    "#Q15\n",
    "import re\n",
    "inputstr = input('Enter a string: ')\n",
    "\n",
    "Literalstr = ['fox', 'dog', 'horse']\n",
    "finalstr = [word for word in Literalstr if re.search(word,inputstr)]\n",
    "print(\"the entered str:\",inputstr)\n",
    "print('the literalstrings:',finalstr)\n"
   ]
  },
  {
   "cell_type": "code",
   "execution_count": 29,
   "id": "ab3a1524",
   "metadata": {},
   "outputs": [
    {
     "name": "stdout",
     "output_type": "stream",
     "text": [
      "Enter a string: t'The quick brown fox jumps over the lazy dog.'\n",
      "string: t'The quick brown fox jumps over the lazy dog.'\n",
      "String search fox\n",
      "search string position {18}\n"
     ]
    }
   ],
   "source": [
    "#Q16\n",
    "import re\n",
    "inputstr = input('Enter a string: ')\n",
    "search = 'fox'\n",
    "match = re.search(search,inputstr)\n",
    "\n",
    "if match:\n",
    "    print('string:',inputstr)\n",
    "    print('String search',search)\n",
    "    print('search string position', {match.start()} - {match.end()})\n",
    "else:\n",
    "    print('string:',inputstr)\n",
    "    print('String search not found',search)\n",
    " "
   ]
  },
  {
   "cell_type": "code",
   "execution_count": 32,
   "id": "83edaea7",
   "metadata": {},
   "outputs": [
    {
     "name": "stdout",
     "output_type": "stream",
     "text": [
      "string Python exercises, PHP exercises, C# exercises\n",
      "search string exercises\n",
      "Position 7\n",
      "Position 22\n",
      "Position 36\n"
     ]
    }
   ],
   "source": [
    "#Q17\n",
    "import re\n",
    "inputstr = 'Python exercises, PHP exercises, C# exercises'\n",
    "search = 'exercises'\n",
    "final = re.finditer(search, inputstr)\n",
    "print('string',inputstr)\n",
    "print('search string', search)\n",
    "\n",
    "for str in final:\n",
    "    print( 'Position',str.start())\n"
   ]
  },
  {
   "cell_type": "code",
   "execution_count": 33,
   "id": "d4ce2733",
   "metadata": {},
   "outputs": [
    {
     "name": "stdout",
     "output_type": "stream",
     "text": [
      "enter the stringThe quick brown fox jumps over the lazy dog.\n",
      "enter the substringthe\n",
      "string The quick brown fox jumps over the lazy dog.\n",
      "search string the\n",
      "Position 31\n",
      "total occurance of substring 1\n"
     ]
    }
   ],
   "source": [
    "#Q18\n",
    "import re\n",
    "c=0\n",
    "inputstr = input('enter the string')\n",
    "search = input('enter the substring')\n",
    "final = re.finditer(search, inputstr)\n",
    "print('string',inputstr)\n",
    "print('search string', search)\n",
    "\n",
    "for str in final:\n",
    "    c=c+1\n",
    "    print( 'Position',str.start())\n",
    "    \n",
    "print('total occurance of substring',c)"
   ]
  },
  {
   "cell_type": "code",
   "execution_count": 35,
   "id": "4b8fb588",
   "metadata": {},
   "outputs": [
    {
     "name": "stdout",
     "output_type": "stream",
     "text": [
      "input date (yyyy-mm-dd)2013-12-23\n",
      "() ()\n"
     ]
    }
   ],
   "source": [
    "#Q19\n",
    "import re\n",
    "inpdt = input('input date (yyyy-mm-dd)')\n",
    "year = re.search(r'(\\d{4})', inpdt)\n",
    "y=match.groups()\n",
    "month=re.search(r'(\\d{2})', inpdt)\n",
    "m=match.groups()\n",
    "print(y,m)\n",
    "\n"
   ]
  },
  {
   "cell_type": "code",
   "execution_count": 40,
   "id": "fcc6aa81",
   "metadata": {},
   "outputs": [
    {
     "name": "stdout",
     "output_type": "stream",
     "text": [
      "input date (yyyy-mm-dd)2023-89-23\n"
     ]
    },
    {
     "ename": "ValueError",
     "evalue": "time data '2023-89-23' does not match format '%Y-%m-%d'",
     "output_type": "error",
     "traceback": [
      "\u001b[1;31m---------------------------------------------------------------------------\u001b[0m",
      "\u001b[1;31mValueError\u001b[0m                                Traceback (most recent call last)",
      "Cell \u001b[1;32mIn[40], line 4\u001b[0m\n\u001b[0;32m      2\u001b[0m \u001b[38;5;28;01mfrom\u001b[39;00m \u001b[38;5;21;01mdatetime\u001b[39;00m \u001b[38;5;28;01mimport\u001b[39;00m datetime\n\u001b[0;32m      3\u001b[0m datestr \u001b[38;5;241m=\u001b[39m \u001b[38;5;28minput\u001b[39m(\u001b[38;5;124m'\u001b[39m\u001b[38;5;124minput date (yyyy-mm-dd)\u001b[39m\u001b[38;5;124m'\u001b[39m)\n\u001b[1;32m----> 4\u001b[0m inpdate \u001b[38;5;241m=\u001b[39m \u001b[43mdatetime\u001b[49m\u001b[38;5;241;43m.\u001b[39;49m\u001b[43mstrptime\u001b[49m\u001b[43m(\u001b[49m\u001b[43mdatestr\u001b[49m\u001b[43m,\u001b[49m\u001b[43m \u001b[49m\u001b[38;5;124;43m'\u001b[39;49m\u001b[38;5;124;43m%\u001b[39;49m\u001b[38;5;124;43mY-\u001b[39;49m\u001b[38;5;124;43m%\u001b[39;49m\u001b[38;5;124;43mm-\u001b[39;49m\u001b[38;5;132;43;01m%d\u001b[39;49;00m\u001b[38;5;124;43m'\u001b[39;49m\u001b[43m)\u001b[49m\n\u001b[0;32m      5\u001b[0m outdatestr \u001b[38;5;241m=\u001b[39m inpdate\u001b[38;5;241m.\u001b[39mstrftime(\u001b[38;5;124m'\u001b[39m\u001b[38;5;132;01m%d\u001b[39;00m\u001b[38;5;124m-\u001b[39m\u001b[38;5;124m%\u001b[39m\u001b[38;5;124mm-\u001b[39m\u001b[38;5;124m%\u001b[39m\u001b[38;5;124mY\u001b[39m\u001b[38;5;124m'\u001b[39m)\n\u001b[0;32m      6\u001b[0m \u001b[38;5;28mprint\u001b[39m(\u001b[38;5;124m'\u001b[39m\u001b[38;5;124mOriginal Date:\u001b[39m\u001b[38;5;124m'\u001b[39m, datestr)\n",
      "File \u001b[1;32m~\\anaconda3\\lib\\_strptime.py:568\u001b[0m, in \u001b[0;36m_strptime_datetime\u001b[1;34m(cls, data_string, format)\u001b[0m\n\u001b[0;32m    565\u001b[0m \u001b[38;5;28;01mdef\u001b[39;00m \u001b[38;5;21m_strptime_datetime\u001b[39m(\u001b[38;5;28mcls\u001b[39m, data_string, \u001b[38;5;28mformat\u001b[39m\u001b[38;5;241m=\u001b[39m\u001b[38;5;124m\"\u001b[39m\u001b[38;5;132;01m%a\u001b[39;00m\u001b[38;5;124m \u001b[39m\u001b[38;5;124m%\u001b[39m\u001b[38;5;124mb \u001b[39m\u001b[38;5;132;01m%d\u001b[39;00m\u001b[38;5;124m \u001b[39m\u001b[38;5;124m%\u001b[39m\u001b[38;5;124mH:\u001b[39m\u001b[38;5;124m%\u001b[39m\u001b[38;5;124mM:\u001b[39m\u001b[38;5;124m%\u001b[39m\u001b[38;5;124mS \u001b[39m\u001b[38;5;124m%\u001b[39m\u001b[38;5;124mY\u001b[39m\u001b[38;5;124m\"\u001b[39m):\n\u001b[0;32m    566\u001b[0m     \u001b[38;5;124;03m\"\"\"Return a class cls instance based on the input string and the\u001b[39;00m\n\u001b[0;32m    567\u001b[0m \u001b[38;5;124;03m    format string.\"\"\"\u001b[39;00m\n\u001b[1;32m--> 568\u001b[0m     tt, fraction, gmtoff_fraction \u001b[38;5;241m=\u001b[39m \u001b[43m_strptime\u001b[49m\u001b[43m(\u001b[49m\u001b[43mdata_string\u001b[49m\u001b[43m,\u001b[49m\u001b[43m \u001b[49m\u001b[38;5;28;43mformat\u001b[39;49m\u001b[43m)\u001b[49m\n\u001b[0;32m    569\u001b[0m     tzname, gmtoff \u001b[38;5;241m=\u001b[39m tt[\u001b[38;5;241m-\u001b[39m\u001b[38;5;241m2\u001b[39m:]\n\u001b[0;32m    570\u001b[0m     args \u001b[38;5;241m=\u001b[39m tt[:\u001b[38;5;241m6\u001b[39m] \u001b[38;5;241m+\u001b[39m (fraction,)\n",
      "File \u001b[1;32m~\\anaconda3\\lib\\_strptime.py:349\u001b[0m, in \u001b[0;36m_strptime\u001b[1;34m(data_string, format)\u001b[0m\n\u001b[0;32m    347\u001b[0m found \u001b[38;5;241m=\u001b[39m format_regex\u001b[38;5;241m.\u001b[39mmatch(data_string)\n\u001b[0;32m    348\u001b[0m \u001b[38;5;28;01mif\u001b[39;00m \u001b[38;5;129;01mnot\u001b[39;00m found:\n\u001b[1;32m--> 349\u001b[0m     \u001b[38;5;28;01mraise\u001b[39;00m \u001b[38;5;167;01mValueError\u001b[39;00m(\u001b[38;5;124m\"\u001b[39m\u001b[38;5;124mtime data \u001b[39m\u001b[38;5;132;01m%r\u001b[39;00m\u001b[38;5;124m does not match format \u001b[39m\u001b[38;5;132;01m%r\u001b[39;00m\u001b[38;5;124m\"\u001b[39m \u001b[38;5;241m%\u001b[39m\n\u001b[0;32m    350\u001b[0m                      (data_string, \u001b[38;5;28mformat\u001b[39m))\n\u001b[0;32m    351\u001b[0m \u001b[38;5;28;01mif\u001b[39;00m \u001b[38;5;28mlen\u001b[39m(data_string) \u001b[38;5;241m!=\u001b[39m found\u001b[38;5;241m.\u001b[39mend():\n\u001b[0;32m    352\u001b[0m     \u001b[38;5;28;01mraise\u001b[39;00m \u001b[38;5;167;01mValueError\u001b[39;00m(\u001b[38;5;124m\"\u001b[39m\u001b[38;5;124munconverted data remains: \u001b[39m\u001b[38;5;132;01m%s\u001b[39;00m\u001b[38;5;124m\"\u001b[39m \u001b[38;5;241m%\u001b[39m\n\u001b[0;32m    353\u001b[0m                       data_string[found\u001b[38;5;241m.\u001b[39mend():])\n",
      "\u001b[1;31mValueError\u001b[0m: time data '2023-89-23' does not match format '%Y-%m-%d'"
     ]
    }
   ],
   "source": [
    "#Q19\n",
    "from datetime import datetime\n",
    "datestr = input('input date (yyyy-mm-dd)')\n",
    "inpdate = datetime.strptime(datestr, '%Y-%m-%d')\n",
    "outdatestr = inpdate.strftime('%d-%m-%Y')\n",
    "print('Original Date:', datestr)\n",
    "print('Formatted Date',outdatestr)"
   ]
  },
  {
   "cell_type": "code",
   "execution_count": 41,
   "id": "70f9ae3f",
   "metadata": {},
   "outputs": [
    {
     "name": "stdout",
     "output_type": "stream",
     "text": [
      "input date (yyyy-mm-dd)2024-09-01\n",
      "Original Date: 2024-09-01\n",
      "Formatted Date 01-09-2024\n"
     ]
    }
   ],
   "source": [
    "#Q19\n",
    "from datetime import datetime\n",
    "datestr = input('input date (yyyy-mm-dd)')\n",
    "inpdate = datetime.strptime(datestr, '%Y-%m-%d')\n",
    "outdatestr = inpdate.strftime('%d-%m-%Y')\n",
    "print('Original Date:', datestr)\n",
    "print('Formatted Date',outdatestr)"
   ]
  },
  {
   "cell_type": "code",
   "execution_count": 42,
   "id": "2b6966ff",
   "metadata": {},
   "outputs": [
    {
     "name": "stdout",
     "output_type": "stream",
     "text": [
      "input string with all decimal nos01.12 0132.123 2.31875 145.8 3.01 27.25 0.25\n",
      "desired string ['01.12', '145.8', '3.01', '27.25', '0.25']\n"
     ]
    }
   ],
   "source": [
    "#Q20\n",
    "import re\n",
    "decistr=input('input string with all decimal nos')\n",
    "def finddeci(str):\n",
    "    pattern = re.compile(r'\\b\\d+\\.\\d{1,2}\\b')\n",
    "    match = pattern.findall(str)\n",
    "    return match\n",
    "final = finddeci(decistr)\n",
    "print(\"desired string\", final)\n"
   ]
  },
  {
   "cell_type": "code",
   "execution_count": 49,
   "id": "d578456d",
   "metadata": {},
   "outputs": [
    {
     "name": "stdout",
     "output_type": "stream",
     "text": [
      "enter the alphanumeric stringthere are 23 mangoes and 12 apples\n",
      "Number: <re.Match object; span=(10, 12), match='23'> Start No.Position: 18 End No.Position: 21\n",
      "Number: <re.Match object; span=(25, 27), match='12'> Start No.Position: 18 End No.Position: 21\n"
     ]
    }
   ],
   "source": [
    "#Q21\n",
    "import re\n",
    "\n",
    "string=input('enter the alphanumeric string')\n",
    "pattern = re.compile(r'\\d+')\n",
    "final = pattern.finditer(string)\n",
    "\n",
    "for f in final:\n",
    "    num = match.group()\n",
    "    num_start = match.start()\n",
    "    num_end = match.end()\n",
    "    print('Number:',f, 'Start No.Position:',num_start,'End No.Position:',num_end)\n"
   ]
  },
  {
   "cell_type": "code",
   "execution_count": 58,
   "id": "b70d29f2",
   "metadata": {},
   "outputs": [
    {
     "name": "stdout",
     "output_type": "stream",
     "text": [
      "enter the alphanumeric stringthere are 23 mangoes and 12 apples\n"
     ]
    },
    {
     "ename": "TypeError",
     "evalue": "'int' object is not iterable",
     "output_type": "error",
     "traceback": [
      "\u001b[1;31m---------------------------------------------------------------------------\u001b[0m",
      "\u001b[1;31mTypeError\u001b[0m                                 Traceback (most recent call last)",
      "Cell \u001b[1;32mIn[58], line 10\u001b[0m\n\u001b[0;32m      8\u001b[0m \u001b[38;5;28;01mif\u001b[39;00m a:\n\u001b[0;32m      9\u001b[0m     b\u001b[38;5;241m=\u001b[39m\u001b[38;5;28mint\u001b[39m(a)\n\u001b[1;32m---> 10\u001b[0m     mx \u001b[38;5;241m=\u001b[39m \u001b[38;5;28;43mmax\u001b[39;49m\u001b[43m(\u001b[49m\u001b[43mb\u001b[49m\u001b[43m)\u001b[49m\n\u001b[0;32m     12\u001b[0m     \u001b[38;5;28mprint\u001b[39m(\u001b[38;5;124m'\u001b[39m\u001b[38;5;124mMaximum Numeric Value:\u001b[39m\u001b[38;5;124m'\u001b[39m,mx)\n\u001b[0;32m     13\u001b[0m \u001b[38;5;28;01melse\u001b[39;00m:\n",
      "\u001b[1;31mTypeError\u001b[0m: 'int' object is not iterable"
     ]
    }
   ],
   "source": [
    "#Q22\n",
    "import re\n",
    "\n",
    "string=input('enter the alphanumeric string')\n",
    "pattern = re.compile(r'\\b\\d+\\b')\n",
    "n =pattern.findall(string)\n",
    "for a in n: \n",
    "    if a:\n",
    "        b=int(a)\n",
    "        mx = max(b)\n",
    "    \n",
    "    \n",
    "        print('Maximum Numeric Value:',mx)\n",
    "    else:\n",
    "        print(\"No numeric values found in the text.\")\n"
   ]
  },
  {
   "cell_type": "code",
   "execution_count": 60,
   "id": "1edbac1d",
   "metadata": {},
   "outputs": [
    {
     "name": "stdout",
     "output_type": "stream",
     "text": [
      "Enter the alphanumeric string: there are 23 mangoes and 12 apples\n",
      "Maximum Numeric Value: 23\n"
     ]
    }
   ],
   "source": [
    "#22\n",
    "import re\n",
    "\n",
    "string = input('Enter the alphanumeric string: ')\n",
    "pattern = re.compile(r'\\b\\d+\\b')\n",
    "numvalues = [int(match) for match in pattern.findall(string)]\n",
    "\n",
    "if numvalues:\n",
    "    maxnumvalue = max(numvalues)\n",
    "    print('Maximum Numeric Value:', maxnumvalue)\n",
    "else:\n",
    "    print('No numeric values found in the text.')"
   ]
  },
  {
   "cell_type": "code",
   "execution_count": 62,
   "id": "15ef1580",
   "metadata": {},
   "outputs": [
    {
     "name": "stdout",
     "output_type": "stream",
     "text": [
      "Original Text: RegularExpressionIsAnImportantTopicInPython\n",
      "Formatted Text: Regular expression is an important topic in python\n"
     ]
    }
   ],
   "source": [
    "#Q23\n",
    "import re\n",
    "\n",
    "string = \"RegularExpressionIsAnImportantTopicInPython\"\n",
    "pattern = re.compile(r'(?<=[a-z])([A-Z])')\n",
    "final = pattern.sub(r' \\1', string)\n",
    "final = final.capitalize()\n",
    "print(\"Original Text:\", string)\n",
    "print(\"Formatted Text:\", final)"
   ]
  },
  {
   "cell_type": "code",
   "execution_count": 64,
   "id": "2a682660",
   "metadata": {},
   "outputs": [
    {
     "name": "stdout",
     "output_type": "stream",
     "text": [
      "enter the string\"ABcd EfGh iJKlmN OpqrsT UVWxyZ\"\n",
      "previous \"ABcd EfGh iJKlmN OpqrsT UVWxyZ\"\n",
      "after ['Bcd', 'Ef', 'Gh', 'Klm', 'Opqrs', 'Wxy']\n"
     ]
    }
   ],
   "source": [
    "#Q24\n",
    "import re\n",
    "\n",
    "string = input('enter the string')\n",
    "pattern = re.compile(r'[A-Z][a-z]+')\n",
    "final = pattern.findall(string)\n",
    "print('previous', string)\n",
    "print('after', final)\n"
   ]
  },
  {
   "cell_type": "code",
   "execution_count": 65,
   "id": "928b9d2c",
   "metadata": {},
   "outputs": [
    {
     "name": "stdout",
     "output_type": "stream",
     "text": [
      "previous Hello hello world world\n",
      "after Hello hello world\n"
     ]
    }
   ],
   "source": [
    "#Q25\n",
    "import re\n",
    "\n",
    "string = \"Hello hello world world\"\n",
    "pattern = re.compile(r'\\b([A-Za-z]+)\\s+\\1\\b')\n",
    "final = pattern.sub(r'\\1', string)\n",
    "print('previous', string)\n",
    "print('after', final)"
   ]
  },
  {
   "cell_type": "code",
   "execution_count": 66,
   "id": "92501e80",
   "metadata": {},
   "outputs": [
    {
     "name": "stdout",
     "output_type": "stream",
     "text": [
      "Enter a string: th234 theej56thhhsjjj233\n",
      "The string ends with an alphanumeric character.\n"
     ]
    }
   ],
   "source": [
    "#Q26\n",
    "import re\n",
    "\n",
    "string = input('Enter a string: ')\n",
    "pattern = re.compile(r'\\w$')\n",
    "final = pattern.search(string)\n",
    "if final:\n",
    "    print(\"The string ends with an alphanumeric character.\")\n",
    "else:\n",
    "    print(\"The string does not end with an alphanumeric character.\")"
   ]
  },
  {
   "cell_type": "code",
   "execution_count": 68,
   "id": "d1b9b013",
   "metadata": {},
   "outputs": [
    {
     "name": "stdout",
     "output_type": "stream",
     "text": [
      "previous RT @kapil_kausik: #Doltiwal I mean #xyzabc is \"hurt\" by #Demonetization as the same has rendered USELESS <ed><U+00A0><U+00BD><ed><U+00B1><U+0089> \"acquired funds\" No wo\n",
      "after ['#Doltiwal', '#xyzabc', '#Demonetization']\n"
     ]
    }
   ],
   "source": [
    "#Q27\n",
    "import re\n",
    "\n",
    "string = \"\"\"RT @kapil_kausik: #Doltiwal I mean #xyzabc is \"hurt\" by #Demonetization as the same has rendered USELESS <ed><U+00A0><U+00BD><ed><U+00B1><U+0089> \"acquired funds\" No wo\"\"\"\n",
    "pattern = re.compile(r'#\\w+')\n",
    "final = pattern.findall(string)\n",
    "print('previous', string)\n",
    "print('after', final)"
   ]
  },
  {
   "cell_type": "code",
   "execution_count": 69,
   "id": "8127bc9c",
   "metadata": {},
   "outputs": [
    {
     "name": "stdout",
     "output_type": "stream",
     "text": [
      "previous @Jags123456 Bharat band on 28??<ed><U+00A0><U+00BD><ed><U+00B8><U+0082>Those who  are protesting #demonetization  are all different party leaders\n",
      "after @Jags123456 Bharat band on 28??<ed><ed>Those who  are protesting #demonetization  are all different party leaders\n"
     ]
    }
   ],
   "source": [
    "#Q28\n",
    "import re\n",
    "\n",
    "string = \"@Jags123456 Bharat band on 28??<ed><U+00A0><U+00BD><ed><U+00B8><U+0082>Those who  are protesting #demonetization  are all different party leaders\"\n",
    "pattern = re.compile(r'<U\\+\\w{4}>')\n",
    "final = pattern.sub('', string)\n",
    "print('previous', string)\n",
    "print('after', final)"
   ]
  },
  {
   "cell_type": "code",
   "execution_count": 71,
   "id": "e6a68a3e",
   "metadata": {},
   "outputs": [
    {
     "name": "stdout",
     "output_type": "stream",
     "text": [
      "enter the stringthe girl is rich and pretty\n",
      "previous the girl is rich and pretty\n",
      "after      pretty\n"
     ]
    }
   ],
   "source": [
    "#Q30\n",
    "import re\n",
    "\n",
    "string = input('enter the string')\n",
    "pattern = re.compile(r'\\b\\w{2,4}\\b')\n",
    "final = pattern.sub('', string)\n",
    "print('previous', string)\n",
    "print('after', final)\n"
   ]
  },
  {
   "cell_type": "code",
   "execution_count": null,
   "id": "bb0b3eca",
   "metadata": {},
   "outputs": [],
   "source": []
  }
 ],
 "metadata": {
  "kernelspec": {
   "display_name": "Python 3 (ipykernel)",
   "language": "python",
   "name": "python3"
  },
  "language_info": {
   "codemirror_mode": {
    "name": "ipython",
    "version": 3
   },
   "file_extension": ".py",
   "mimetype": "text/x-python",
   "name": "python",
   "nbconvert_exporter": "python",
   "pygments_lexer": "ipython3",
   "version": "3.10.9"
  }
 },
 "nbformat": 4,
 "nbformat_minor": 5
}
