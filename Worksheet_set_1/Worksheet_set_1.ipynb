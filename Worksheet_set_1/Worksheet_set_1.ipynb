{
 "cells": [
  {
   "cell_type": "code",
   "execution_count": 9,
   "id": "c1712eb1",
   "metadata": {
    "scrolled": true
   },
   "outputs": [
    {
     "name": "stdout",
     "output_type": "stream",
     "text": [
      "Enter a number: 3\n",
      "Factorial of 3 is: 6\n"
     ]
    }
   ],
   "source": [
    "#11. Write a python program to find the factorial of a number\n",
    "num = int(input(\"Enter a number: \"))\n",
    "fact = 1\n",
    "for i in range(1, num + 1):\n",
    "    fact=fact* i\n",
    "print(\"Factorial of\", num, \"is:\", fact)"
   ]
  },
  {
   "cell_type": "code",
   "execution_count": 17,
   "id": "9f4cf4af",
   "metadata": {},
   "outputs": [
    {
     "name": "stdout",
     "output_type": "stream",
     "text": [
      "Enter a number: 3\n",
      "3 is prime.\n"
     ]
    }
   ],
   "source": [
    "#12. Write a python program to find whether a number is prime or composite.\n",
    "num = int(input(\"Enter a number: \"))\n",
    "if num > 1:\n",
    "    for i in range(2, num):\n",
    "        if num % i == 0:\n",
    "            print(f\"{num} is composite.\")\n",
    "            break\n",
    "        else:\n",
    "                print(f\"{num} is prime.\")\n"
   ]
  },
  {
   "cell_type": "code",
   "execution_count": 14,
   "id": "9e2d02d6",
   "metadata": {},
   "outputs": [
    {
     "name": "stdout",
     "output_type": "stream",
     "text": [
      "Enter a string: tyuhghuyt\n",
      "Palindrome\n"
     ]
    }
   ],
   "source": [
    "#13.Write a python program to check whether a given string is palindrome or not.\n",
    "inpstr = input(\"Enter a string: \")\n",
    "if inpstr == inpstr[::-1]:\n",
    "    print(\"Palindrome\")\n",
    "else:\n",
    "    print(\"Not a palindrome\")"
   ]
  },
  {
   "cell_type": "code",
   "execution_count": 13,
   "id": "b51fd601",
   "metadata": {},
   "outputs": [
    {
     "name": "stdout",
     "output_type": "stream",
     "text": [
      "Enter the length of the perpendicular: 4\n",
      "Enter the length of the base: 5\n",
      "The length of the hypotenuse is: 6.4031242374328485\n"
     ]
    }
   ],
   "source": [
    "#14.Write a Python program to get the third side of right-angled triangle from two given sides.\n",
    "perpendicular = float(input(\"Enter the length of the perpendicular: \"))\n",
    "base = float(input(\"Enter the length of the base: \"))\n",
    "hypotenuse = (perpendicular**2 + base**2)**0.5\n",
    "print(f\"The length of the hypotenuse is: {hypotenuse}\")\n"
   ]
  },
  {
   "cell_type": "code",
   "execution_count": 11,
   "id": "9d712850",
   "metadata": {},
   "outputs": [
    {
     "name": "stdout",
     "output_type": "stream",
     "text": [
      "Enter a string: the struing the struing the struing\n",
      "Character frequencies:\n",
      "t: 6\n",
      "h: 3\n",
      "e: 3\n",
      " : 5\n",
      "s: 3\n",
      "r: 3\n",
      "u: 3\n",
      "i: 3\n",
      "n: 3\n",
      "g: 3\n"
     ]
    }
   ],
   "source": [
    "#15.Write a python program to print the frequency of each of the characters present in a given string\n",
    "inpstr = input(\"Enter a string: \")\n",
    "characters = {}\n",
    "for ch in inpstr:\n",
    "    if ch in characters:\n",
    "        characters[ch] += 1\n",
    "    else:\n",
    "        characters[ch] = 1\n",
    "print(\"Character frequencies:\")\n",
    "for char, frequency in characters.items():\n",
    "    print(f\"{char}: {frequency}\")\n"
   ]
  },
  {
   "cell_type": "code",
   "execution_count": null,
   "id": "d4291f47",
   "metadata": {},
   "outputs": [],
   "source": []
  }
 ],
 "metadata": {
  "kernelspec": {
   "display_name": "Python 3 (ipykernel)",
   "language": "python",
   "name": "python3"
  },
  "language_info": {
   "codemirror_mode": {
    "name": "ipython",
    "version": 3
   },
   "file_extension": ".py",
   "mimetype": "text/x-python",
   "name": "python",
   "nbconvert_exporter": "python",
   "pygments_lexer": "ipython3",
   "version": "3.10.9"
  }
 },
 "nbformat": 4,
 "nbformat_minor": 5
}
